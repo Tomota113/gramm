{
 "cells": [
  {
   "cell_type": "code",
   "execution_count": 3,
   "id": "74a1a267",
   "metadata": {},
   "outputs": [
    {
     "name": "stdout",
     "output_type": "stream",
     "text": [
      "le quotient a/b est  0  et le reste est  5.0\n"
     ]
    }
   ],
   "source": [
    "a=float(input(\"valeur de a \"))\n",
    "b=float(input(\"valeur de b \"))\n",
    "c=a/b\n",
    "c=int(c)\n",
    "d=a%b\n",
    "print(\"le quotient a/b est \",c,\" et le reste est \",d)"
   ]
  }
 ],
 "metadata": {
  "kernelspec": {
   "display_name": "Python 3",
   "language": "python",
   "name": "python3"
  },
  "language_info": {
   "codemirror_mode": {
    "name": "ipython",
    "version": 3
   },
   "file_extension": ".py",
   "mimetype": "text/x-python",
   "name": "python",
   "nbconvert_exporter": "python",
   "pygments_lexer": "ipython3",
   "version": "3.13.3"
  }
 },
 "nbformat": 4,
 "nbformat_minor": 5
}
